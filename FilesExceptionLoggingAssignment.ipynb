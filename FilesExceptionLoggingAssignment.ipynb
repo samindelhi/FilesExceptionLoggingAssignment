{
  "nbformat": 4,
  "nbformat_minor": 0,
  "metadata": {
    "colab": {
      "provenance": [],
      "collapsed_sections": [
        "wdc_3Mg57Q9I"
      ]
    },
    "kernelspec": {
      "name": "python3",
      "display_name": "Python 3"
    },
    "language_info": {
      "name": "python"
    }
  },
  "cells": [
    {
      "cell_type": "markdown",
      "source": [
        "# Files, exceptional handling, logging and memory management Questions"
      ],
      "metadata": {
        "id": "wdc_3Mg57Q9I"
      }
    },
    {
      "cell_type": "markdown",
      "source": [
        "\n",
        "\n",
        "1. What is the difference between interpreted and compiled languages\n",
        "  - The key difference between Interpreted and Compiled languages lies in **how they are executed**:\n",
        "    - Interpreted languages are executed line by line by an interpreter at runtime. This means the code doesn't need to be converted into machine code beforehand, making debugging and modification easier but often leading to slower execution speeds. Example: Python, Javascript, Ruby etc.\n",
        "    - Compiled languages on the other hand are translated entirely into machine code before execution using a compiler. This results in **faster execution** since the program is already converted (machine/byte code) into a format that computer understands. However, debugging is usually harder because errors are caught only after compilation. Example include C, C++ and Java.\n",
        "\n",
        "2. What is exception handling in Python\n",
        "  - Exception handling in Python is a mechanism that allows programs to gracefully deal with runtime errors and unexpected situations. It prevents abrupt termination and provides a structured way to handle errors and notify users or log it for troubleshooting.\n",
        "  - How It Works:\n",
        "      - Python uses try, except, else, and finally blocks to handle exceptions:\n",
        "      - **try Block:** Contains code that might raise an exception.\n",
        "      - **except Block:** Defines how to handle specific exceptions if they occur.\n",
        "      - **else Block:**  Runs if no exceptions occur in the try block.\n",
        "      - **finally Block:** Runs regardless of whether an exception occurred or not.\n",
        "```\n",
        "      try:\n",
        "          num = int(input(\"Enter the first number: ))'''\n",
        "          num1 = int(input(\"Enter the second number: ))\n",
        "          result = num1 / num2  #may cause error if num1 is 0\n",
        "          print(\"Result: \",result)\n",
        "      execpt ZeroDivisionError as ze:\n",
        "          print(\"Cannot divide by zero!\")\n",
        "      else:\n",
        "          print(\"No errors occurred during divison.\")\n",
        "      finally:\n",
        "          print(\"Program execution completed.\")\n",
        "```\n",
        "3. What is the purpose of the finally block in exception handling\n",
        "  - The **finally** block in Python's exception handling is guaranteed to execute regardless of whether an exception occurs or not. Its primary purpose is to define cleanup actions that should always be performed, like closing files, releasing resources, or disconnecting from a database.\n",
        "  - Key Features of finally\n",
        "    - Runs no matter what, even if an error occurs.\n",
        "    - Ensures proper cleanup (closing files, network connections, etc.).\n",
        "    - Works alongside try-except blocks to maintain code reliability.\n",
        "\n",
        "4. What is logging in Python\n",
        "    - Logging in Python is a built-in module that helps track events that occur during a program's execution. It's useful for debugging, monitoring, and recording errors without cluttering your output with unnecessary print statements.\n",
        "    - Use of Logging:\n",
        "      - Helps identify bugs and unexpected behavior in programs.\n",
        "      - Records program execution without disrupting functionality.\n",
        "      - Supports different logging levels for better control.\n",
        "      - Can write logs to files, consoles, or external systems.\n",
        "    - Basic Logging Setup\n",
        "      - Python provides a logging module, which can be used as follows:\n",
        "```\n",
        "import logging\n",
        "logging.basicConfig(filename='app.log', level=logging.info)\n",
        "logging.debug(\"This is a debug message that will not be logged due to logging level\")\n",
        "logging.info(\"This is an info message.\")\n",
        "logging.warning(\"This is a warning.\")\n",
        "logging.error(\"This is an error.\")\n",
        "```\n",
        "```\n",
        "#Output in app.log file.\n",
        "#note the Debug message is missing due to logging level above info level only.\n",
        "INFO:root:This is an info message.\n",
        "WARNING:root:This is a warning.\n",
        "ERROR:root:This is an error.\n",
        "```\n",
        "\n",
        "Logging levels hierarchy:\n",
        "\n",
        "|Logging Level (Order of severity of message)|Description|\n",
        "|:--------------------------------:|:---------:|\n",
        "| DEBUG   | Detailed diagnostic information for debugging (Least severe) |\n",
        "| INFO    | General messages showing program execution |\n",
        "| WARNING | Indicates potential issues |\n",
        "| ERROR   | Logs errors that prevent normal execution |\n",
        "| CRITICAL | Logs severe errors causing program failure (Most severe)|\n",
        "\n",
        "    - Hence when the 'level' in basicConfig is given as level=logging.info,\n",
        "    all messages with levels including and above in severity order will be\n",
        "    logged, hence 'DEBUG' messages will not be logged.\n",
        "\n",
        "5. What is the significance of the __del__ method in Python\n",
        "  - The ***```__del__```*** method in Python is a special *destructor* method that is called when an object is about to be destroyed. Its primary purpose is to free up resources, close connections, or perform cleanup tasks before an object is removed from memory by the garbage collector.\n",
        "  -  eg:\n",
        "```\n",
        "class FileManager:\n",
        "    def __init__(self, filename):\n",
        "        self.file = open(filename, \"w\")\n",
        "        print(f\"Opened {filename}\")\n",
        "\n",
        "    def __del__(self):\n",
        "        self.file.close()\n",
        "        print(\"File closed!\")\n",
        "\n",
        "    # Creating an object\n",
        "    fm = FileManager(\"example.txt\")\n",
        "\n",
        "    # Deleting the object manually\n",
        "    del fm  # Calls __del__ method\n",
        "\n",
        "    #Output\n",
        "    Opened example.txt\n",
        "    File closed!\n",
        "```\n",
        "  - Even if you don’t manually delete the object, Python’s garbage collector will eventually free memory and call ```__del__```.\n",
        "\n",
        "6. What is the difference between import and from ... import in Python\n",
        "  - The difference between import and from ... import in Python lies in how modules and functions are accessed.\n",
        "    1. ```import module```\n",
        "    - Imports the entire module.\n",
        "    - Requires you to reference functions or variables using ```module.function()```.\n",
        "    - Useful for keeping namespaces clean and avoiding conflicts\n",
        "```\n",
        "    import math\n",
        "    print(math.sqrt(16))  # Access sqrt via math module\n",
        "```\n",
        "\n",
        "    2. ```from module import function```\n",
        "    - Imports a specific function or variable from a module.\n",
        "    - Allows direct usage without referencing the module name.\n",
        "    - Can lead to name conflicts if multiple modules have similar function names\n",
        "```\n",
        "    from math import sqrt\n",
        "    print(sqrt(16))  # Directly using sqrt without \"math.\"\n",
        "```\n",
        "\n",
        "7. How can you handle multiple exceptions in Python\n",
        "  - Handling multiple exceptions in Python allows you to manage different types of errors efficiently within a try block. There are three main approaches to handling multiple exceptions:\n",
        "  - 1. Using Multiple except Blocks\n",
        "  You can handle different exceptions separately by defining multiple ```except``` blocks. order must be first specific exceptions and then generic exception.\n",
        "```\n",
        "    try:\n",
        "          num = int(input(\"Enter a number: \"))  # May raise ValueError\n",
        "          result = 10 / num  # May raise ZeroDivisionError\n",
        "    except ValueError:\n",
        "          print(\"Invalid input! Please enter a valid number.\")\n",
        "    except ZeroDivisionError:\n",
        "          print(\"Cannot divide by zero!\")  \n",
        "    except Exception as e:\n",
        "          print(\"Generic exception that is not handled above.\")  \n",
        "```\n",
        "  - 2. Handling Multiple exceptions in one ```except``` block using tuple.\n",
        "```\n",
        "    try:\n",
        "          num = int(input(\"Enter a number: \"))\n",
        "          result = 10 / num\n",
        "    except (ValueError, ZeroDivisionError) as e:\n",
        "          print(f\"Error occurred: {e}\")\n",
        "```\n",
        "  - 3. Catching All exceptions ```Exception```  block as generic exception.\n",
        "```\n",
        "    try:\n",
        "          num = int(input(\"Enter a number: \"))\n",
        "          result = 10 / num\n",
        "    except Exception as e:\n",
        "          print(f\"An unexpected error occurred: {e}\")\n",
        "```\n",
        "\n",
        "8. What is the purpose of the with statement when handling files in Python\n",
        "  - The with statement in Python is used for automatic resource management, particularly when working with files. It ensures that resources like file streams are properly closed after use, preventing potential issues like memory leaks or file corruption.\n",
        "    - Why Use with for File Handling?\n",
        "      - Automatic Cleanup: Closes the file automatically when the block exits.\n",
        "      - Prevents Resource Leaks: Avoids accidentally leaving files open.\n",
        "      - Improves Code Readability: Removes the need for manual file closing\n",
        "```\n",
        "      #Instead of\n",
        "      file = open(\"example.txt\", \"r\")\n",
        "      data = file.read()\n",
        "      file.close()  # Manual closing required\n",
        "\n",
        "          #Best practice usage\n",
        "      with open(\"example.txt\", \"r\") as file:\n",
        "          data = file.read()\n",
        "          print(data)  # No need to manually close the file\n",
        "```\n",
        "  \n",
        "9. What is the difference between multithreading and multiprocessing\n",
        "\n",
        "|Feature|Multithreading|Multiprocessing|\n",
        "|:------:|:------------:|:-------------:|\n",
        "|**Execution Model**|Multiple threads within the same process|Multiple independent processes|\n",
        "| **Parallelism Type** | Concurrent execution (not true parallelism due to GIL) | True parallelism (each process gets separate memory) |\n",
        "| **Uses for CPU-bound Tasks?** |  Inefficient (GIL restricts CPU usage) |Efficient (bypasses GIL, utilizes multiple CPU cores) |\n",
        "| **Uses for I/O-bound Tasks?** | Suitable (threads can handle multiple I/O operations) |  Overhead makes it less ideal |\n",
        "| **Memory Usage** | Shared memory space | Separate memory for each process |\n",
        "| **Speed for Lightweight Tasks** | Faster (low overhead) | Slower (process reaction is expensive) |\n",
        "| **Inter-process Communication** | Complex (shared memory, locks required) | Easier (message passing via ```multiprocessing.Queue```) |\n",
        "| **Best Use Cases** | Networking, file I/O, async tasks | Heavy computation, CPU-bound tasks like machine learning |\n",
        "  \n",
        "  - In backend development and API testing, multithreading can be useful for handling multiple requests efficiently, while multiprocessing is ideal for parallelizing data processing in Flask applications.\n",
        "\n",
        "10. What are the advantages of using logging in a program\n",
        "    - Using logging in a program provides several advantages for debugging, monitoring, and maintaining application reliability. Here's why logging is essential:\n",
        "      1. Helps Debugging and Troubleshooting\n",
        "        - Logs help trace errors without disrupting execution.\n",
        "        - Allows developers to identify where and why failures occur.\n",
        "      2. Tracks Application Behavior\n",
        "        - Provides insights into how the program is running.\n",
        "        - Useful for monitoring API calls, user actions, and system events.\n",
        "      3. Improves Maintainability\n",
        "        - Makes it easier to maintain large applications without excessive print statements.\n",
        "        - Structured logging simplifies debugging for multiple developers.\n",
        "      4. Supports Different Log Levels\n",
        "        - Categorizes logs by severity:\n",
        "        - DEBUG: Detailed internal logs.\n",
        "        - INFO: General execution details.\n",
        "        - WARNING: Potential issues.\n",
        "        - ERROR: Something went wrong.\n",
        "        - CRITICAL: Severe failures.\n",
        "      5. Saves Logs for Auditing and Security\n",
        "        - Logs can be stored in files, databases, or cloud systems.\n",
        "        - Helps detect security threats or suspicious activities.\n",
        "      6. Works Well with Multithreading and Multiprocessing\n",
        "        - Ensures proper logging in concurrent applications without data conflicts.\n",
        "      7. Enhances Performance Monitoring\n",
        "        - Helps optimize performance by tracking execution times.\n",
        "        - Useful in Flask applications for logging API requests and database queries.\n",
        "\n",
        "11. What is memory management in Python\n",
        "  - Memory management in Python is handled automatically by the Python memory manager, which efficiently allocates and deallocates memory for objects. Python uses dynamic memory allocation, meaning memory is managed during runtime. eg: Private Heap memory, Garbage collection, Reference counting, etc.\n",
        "  \n",
        "12. What are the basic steps involved in exception handling in Python\n",
        "  - Here are the basic steps for exception handling in Python:\n",
        "  - Try Block (try) : Write the code that may raise an exception.\n",
        "  - Exception Handling (except) - Catch and handle specific errors.\n",
        "  - Multiple (except) Blocks - Handle different exceptions separately.\n",
        "  - Catch-All Exception (except Exception) - Handle unexpected errors.\n",
        "  - Else Block (else) - Execute if no exceptions occur.\n",
        "  - Finally Block (finally) - Ensure cleanup, like closing files.\n",
        "  - Custom Exceptions (raise) - Define and raise custom errors if needed.\n",
        "  Example:\n",
        "```\n",
        "  try:\n",
        "        num = int(input(\"Enter a number: \"))\n",
        "        result = 10 / num\n",
        "  except ZeroDivisionError:\n",
        "        print(\"Cannot divide by zero!\")\n",
        "  except ValueError:\n",
        "        print(\"Invalid input!\")\n",
        "  else:\n",
        "        print(\"No errors occurred.\")\n",
        "  finally:\n",
        "        print(\"Execution completed.\")\n",
        "```\n",
        "13. Why is memory management important in Python\n",
        "  - Memory management in Python is crucial for ensuring efficient use of system resources.\n",
        "  - It:\n",
        "      - Prevents memory leaks by automatically deallocating unused objects.\n",
        "      - Optimizes performance through memory pooling and garbage collection.\n",
        "      - Handles dynamic memory allocation to support flexible data structures.\n",
        "      - Improves reliability in large-scale applications like Flask-based APIs.\n",
        "\n",
        "14. What is the role of try and except in exception handling\n",
        "  - The (try) block detects errors, and the (except) block handles them to prevent program crashes. This ensures smooth execution even when unexpected issues arise.\n",
        "\n",
        "15. How does Python's garbage collection system work\n",
        "  - Python's garbage collection automatically manages memory by removing unused objects. It uses:\n",
        "      - Reference Counting – Deletes objects when no references remain.\n",
        "      - Cyclic Garbage Collection – Detects circular references and clears them.\n",
        "      - Memory Optimization – Interns small objects and pools memory for efficiency.\n",
        "Example:\n",
        "```\n",
        "      import gc\n",
        "      gc.collect()  # Manually triggers garbage collection\n",
        "```\n",
        "16. What is the purpose of the else block in exception handling\n",
        "  - The else block in exception handling runs only if no exceptions occur in the try block. It helps separate normal execution from error handling.\n",
        "\n",
        "17. What are the common logging levels in Python\n",
        "\n",
        "| Logging Level | Purpose |\n",
        "|--------------|------------------------------------------------|\n",
        "| DEBUG        | Detailed information for debugging. Used during development. |\n",
        "| INFO         | General events indicating normal execution progress. |\n",
        "| WARNING      | Indicates potential issues that don’t stop the program but may need attention. |\n",
        "| ERROR        | Serious issues that prevent the program from executing correctly. |\n",
        "| CRITICAL     | Severe errors that may cause the program to crash. |\n",
        "\n",
        "\n",
        "18. What is the difference between os.fork() and multiprocessing in Python\n",
        "  - The key difference between os.fork() and the multiprocessing module in Python lies in how processes are created and managed.\n",
        "    1. ```os.fork()``` (Unix/Linux Only)\n",
        "      - Creates a new child process by duplicating the parent process.\n",
        "      - Uses shared memory (same address space), which can lead to data corruption.\n",
        "      - Not available on Windows.\n",
        "    2. ```multiprocessing``` Module (Cross-Platform)\n",
        "      - Spawns completely independent processes, each with its own memory space.\n",
        "      - Bypasses Global Interpreter Lock (GIL) for true parallel execution.\n",
        "      - Works on Windows, macOS, and Linux, making it more portable.\n",
        "\n",
        "19. What is the importance of closing a file in Python\n",
        "  - Closing a file in Python is important to:\n",
        "      - Free system resources (prevents memory leaks).\n",
        "      - Ensure data is saved (flushes buffered writes).\n",
        "      - Prevent file corruption (avoids incomplete writes).\n",
        "      - Allow other processes to access the file.\n",
        "\n",
        "Example:\n",
        "\n",
        "```\n",
        "    file = open(\"data.txt\", \"w\")\n",
        "    file.write(\"Hello, World!\")\n",
        "    file.close()  # Ensures data is properly saved\n",
        "```\n",
        "\n",
        "Using ```with open(...) as file```: is a better practice since it auto-closes the file!\n",
        "\n",
        "20. What is the difference between file.read() and file.readline() in Python\n",
        "  - Difference between file.read() and file.readline()\n",
        "      - ```file.read()```: Reads the entire file as a single string.\n",
        "      - ```file.readline()```: Reads only one line from the file at a time.\n",
        "  - Example:\n",
        "```\n",
        "    with open(\"data.txt\", \"r\") as file:\n",
        "        print(file.read())  # Reads full content\n",
        "        print(file.readline())  # Reads only one line\n",
        "```\n",
        "\n",
        "21. What is the logging module in Python used for\n",
        "  - Purpose of the logging module in Python\n",
        "      - Used for tracking events, errors, and debugging without using print statements.\n",
        "      - Supports log levels like ```DEBUG, INFO, WARNING, ERROR, and CRITICAL```.\n",
        "  - Example:\n",
        "```\n",
        "      import logging\n",
        "      logging.basicConfig(level=logging.INFO)\n",
        "      logging.info(\"Application started\")\n",
        "```\n",
        "22. What is the os module in Python used for in file handling\n",
        "  - Role of the os module in file handling\n",
        "      - Provides file and directory management functions (create, delete, move, etc.).\n",
        "```\n",
        "    import os\n",
        "    os.remove(\"data.txt\")  # Deletes a file\n",
        "```\n",
        "\n",
        "23. What are the challenges associated with memory management in Python\n",
        "  - Challenges in Python's memory management\n",
        "      - Garbage collection overhead, affecting performance.\n",
        "      - Reference cycles, requiring manual cleanup ```gc.collect()```.\n",
        "      - High memory usage, especially with large objects or inefficient code\n",
        "\n",
        "24. How do you raise an exception manually in Python\n",
        "  - Raising an exception manually in Python\n",
        "      - Use raise to trigger an exception intentionally.\n",
        "      - Example:\n",
        "``` raise ValueError(\"Invalid input!\")  # Manually raises a ValueError```\n",
        "\n",
        "25. Why is it important to use multithreading in certain applications?\n",
        "  - Importance of multithreading in certain applications\n",
        "      - Enables concurrent execution, improving performance in I/O-bound tasks.\n",
        "      - Ideal for networking, file operations, and GUI applications.\n",
        "      - Example:\n",
        "```\n",
        "      import threading\n",
        "      def task():\n",
        "          print(\"Thread running\")\n",
        "      thread = threading.Thread(target=task)\n",
        "      thread.start()\n",
        "      thread.join()\n",
        "```\n"
      ],
      "metadata": {
        "id": "_HS51_Ticy2v"
      }
    },
    {
      "cell_type": "markdown",
      "source": [
        "# Practical Questions\n",
        "---"
      ],
      "metadata": {
        "id": "fkBL-Ch11XDi"
      }
    },
    {
      "cell_type": "code",
      "execution_count": null,
      "metadata": {
        "id": "R4RIja_QcY8l"
      },
      "outputs": [],
      "source": [
        "#1. How can you open a file for writing in Python and write a string to it\n",
        "\n",
        "with open('test.txt','w') as f:   #file created if not existing and opened in write mode\n",
        "  f.write('This content is being written into a file.\\nThis file will be used for read operation as well.\\n The content being stored is separated by new line character.')   #a String written into the file.\n"
      ]
    },
    {
      "cell_type": "code",
      "source": [
        "#2.  How can you open a file for writing in Python and write a string to it\n",
        "with open('test.txt', 'r') as f:    #file created above, is opened in read mode\n",
        "  for l in f.readlines():\n",
        "    print(l)   #content of file is read and printed."
      ],
      "metadata": {
        "colab": {
          "base_uri": "https://localhost:8080/"
        },
        "id": "N44tC-SG9Ot_",
        "outputId": "505d74c1-feff-4da0-90eb-346d2207ad32"
      },
      "execution_count": null,
      "outputs": [
        {
          "output_type": "stream",
          "name": "stdout",
          "text": [
            "This content is being written into a file.\n",
            "\n",
            "This file will be used for read operation as well.\n",
            "\n",
            " The content being stored is separated by new line character.\n"
          ]
        }
      ]
    },
    {
      "cell_type": "code",
      "source": [
        "#3. How would you handle a case where the file doesn't exist while trying to open it for reading\n",
        "\n",
        "try:\n",
        "  with open('test1.txt', 'r') as f:    #file created above, is opened in read mode\n",
        "    for l in f.readlines():\n",
        "      print(l)   #content of file is read and printed.\n",
        "except FileNotFoundError as fe:\n",
        "  print(f\"Exception occurred while opening the file for reading. {fe}\")\n",
        "\n",
        "#output: Exception occurred while opening the file for reading. [Errno 2] No such file or directory: 'test1.txt'"
      ],
      "metadata": {
        "colab": {
          "base_uri": "https://localhost:8080/"
        },
        "id": "rW_xbqE2-BCS",
        "outputId": "b69754c2-0509-4d24-9ceb-68bf03b36b0a"
      },
      "execution_count": null,
      "outputs": [
        {
          "output_type": "stream",
          "name": "stdout",
          "text": [
            "Exception occurred while opening the file for reading. [Errno 2] No such file or directory: 'test1.txt'\n"
          ]
        }
      ]
    },
    {
      "cell_type": "code",
      "source": [
        "#4. Write a Python script that reads from one file and writes its content to another file\n",
        "\n",
        "with open('test.txt','r') as fr, open('test1.txt','w') as fw:\n",
        "  for l in fr.readlines():\n",
        "    fw.write(l)\n",
        "  fw.write(\"\\nAll contents copied from test.txt into test1.txt.\")\n",
        "\n",
        "with open('test1.txt','r') as fr:   #Contents from file test.txt copied into test1.txt.\n",
        "  for l in fr.readlines():\n",
        "    print(l)\n"
      ],
      "metadata": {
        "colab": {
          "base_uri": "https://localhost:8080/"
        },
        "id": "Qz6YCB5s_EJ3",
        "outputId": "241dcdf9-9ec2-4dcd-e276-27dc9dacef6d"
      },
      "execution_count": 166,
      "outputs": [
        {
          "output_type": "stream",
          "name": "stdout",
          "text": [
            "This content is being written into a file.\n",
            "\n",
            "This file will be used for read operation as well.\n",
            "\n",
            " The content being stored is separated by new line character.\n",
            "\n",
            "New content being added to the file in append mode.New content being added to the file in append mode.\n",
            "\n",
            "New content being added to the file in append mode again..New content being added to the file in append mode.\n",
            "\n",
            "New content being added to the file in append mode again..New content being added to the file in append mode.\n",
            "\n",
            "New content being added to the file in append mode again..New content being added to the file in append mode.\n",
            "\n",
            "New content being added to the file in append mode again..New content being added to the file in append mode.\n",
            "\n",
            "New content being added to the file in append mode again..\n",
            "\n",
            "New content being added to the file in append mode.\n",
            "\n",
            "New content being added to the file in append mode again..\n",
            "\n",
            "New content being added to the file in append mode.\n",
            "\n",
            "New content being added to the file in append mode again..\n",
            "\n",
            "New content being added to the file in append mode.\n",
            "\n",
            "New content being added to the file in append mode again..\n",
            "\n",
            "\n",
            "\n",
            "All contents copied from test.txt into test1.txt.\n"
          ]
        }
      ]
    },
    {
      "cell_type": "code",
      "source": [
        "#5. How would you catch and handle division by zero error in Python?\n",
        "\n",
        "def divide(x,y):\n",
        "  try:\n",
        "    return \"Result of division:\", x/y\n",
        "  except ZeroDivisionError as ze:\n",
        "    return \"Error while division: \",ze\n",
        "\n",
        "print(divide(5,2))"
      ],
      "metadata": {
        "colab": {
          "base_uri": "https://localhost:8080/"
        },
        "id": "DokoekA4AmGH",
        "outputId": "fe5703f6-cb2b-4b2f-cd62-162f1b4166ad"
      },
      "execution_count": 165,
      "outputs": [
        {
          "output_type": "stream",
          "name": "stdout",
          "text": [
            "('Result of division:', 2.5)\n"
          ]
        }
      ]
    },
    {
      "cell_type": "code",
      "source": [
        "#6. Write a Python program that logs an error message to a log file when a division by zero exception occurs\n",
        "import logging\n",
        "\n",
        "logging.basicConfig(filename='/content/app.log', force=True, level=logging.DEBUG, format=\"%(asctime)s - %(levelname)s - %(message)s\")\n",
        "\n",
        "def divide(x,y):\n",
        "  try:\n",
        "    result = x/y\n",
        "    logging.info(f\"Result of division for {x}/{y}: {result}\")\n",
        "    return \"Result of division:\", result\n",
        "  except ZeroDivisionError as ze:\n",
        "    logging.error(f\"Error while division: {ze}\")\n",
        "    return \"Error has been logged to a file error.log\"\n",
        "  finally:\n",
        "    logging.shutdown()\n",
        "\n",
        "try:\n",
        "  print(divide(5,0))\n",
        "\n",
        "  with open('/content/app.log','r') as errorfile:\n",
        "    print(errorfile.read())\n",
        "except Exception as e:\n",
        "  print(\"Exception occurred: \")\n",
        "\n"
      ],
      "metadata": {
        "colab": {
          "base_uri": "https://localhost:8080/"
        },
        "id": "Y7AeLolyBn71",
        "outputId": "87eef158-3adf-44bf-bcc5-5de7cfbd26c0"
      },
      "execution_count": 164,
      "outputs": [
        {
          "output_type": "stream",
          "name": "stdout",
          "text": [
            "Error has been logged to a file error.log\n",
            "2025-05-24 16:41:53,124 - ERROR - Error while division: division by zero\n",
            "2025-05-24 16:46:21,680 - INFO - Logging info message\n",
            "2025-05-24 16:46:21,680 - WARNING - Logging warning message\n",
            "2025-05-24 16:46:21,681 - ERROR - Logging error message\n",
            "2025-05-24 16:46:21,681 - CRITICAL - Logging critical message\n",
            "2025-05-24 16:46:39,259 - INFO - Logging info message\n",
            "2025-05-24 16:46:39,259 - WARNING - Logging warning message\n",
            "2025-05-24 16:46:39,260 - ERROR - Logging error message\n",
            "2025-05-24 16:46:39,260 - CRITICAL - Logging critical message\n",
            "2025-05-24 16:46:56,704 - INFO - Logging info message\n",
            "2025-05-24 16:46:56,705 - WARNING - Logging warning message\n",
            "2025-05-24 16:46:56,705 - ERROR - Logging error message\n",
            "2025-05-24 16:46:56,706 - CRITICAL - Logging critical message\n",
            "2025-05-24 16:50:04,772 - INFO - Logging info message\n",
            "2025-05-24 16:50:04,772 - WARNING - Logging warning message\n",
            "2025-05-24 16:50:04,773 - ERROR - Logging error message\n",
            "2025-05-24 16:50:04,773 - CRITICAL - Logging critical message\n",
            "2025-05-24 16:50:28,654 - INFO - Logging info message\n",
            "2025-05-24 16:50:28,655 - WARNING - Logging warning message\n",
            "2025-05-24 16:50:28,655 - ERROR - Logging error message\n",
            "2025-05-24 16:50:28,655 - CRITICAL - Logging critical message\n",
            "2025-05-24 16:54:52,668 - INFO - NumExpr defaulting to 2 threads.\n",
            "2025-05-24 16:54:54,485 - DEBUG - This service is instrumented using OpenTelemetry. OpenTelemetry or one of its components could not be imported; please add compatible versions of opentelemetry-api and opentelemetry-instrumentation packages in order to get Storage Tracing data.\n",
            "2025-05-24 17:40:18,713 - INFO - Performing a basic division operation.\n",
            "2025-05-24 17:40:18,714 - ERROR - Division by zero not possible\n",
            "2025-05-24 19:37:23,816 - INFO - Logging info message\n",
            "2025-05-24 19:37:23,816 - WARNING - Logging warning message\n",
            "2025-05-24 19:37:23,817 - ERROR - Logging error message\n",
            "2025-05-24 19:37:23,817 - CRITICAL - Logging critical message\n",
            "2025-05-24 19:38:12,137 - ERROR - Error while division: division by zero\n",
            "\n"
          ]
        }
      ]
    },
    {
      "cell_type": "code",
      "source": [
        "#7. How do you log information at different levels (INFO, ERROR, WARNING) in Python using the logging module\n",
        "\n",
        "import logging\n",
        "\n",
        "logging.basicConfig(filename='app.log',force=True, level=logging.INFO, format=\"%(asctime)s - %(levelname)s - %(message)s\")\n",
        "logging.info(\"Logging info message\")\n",
        "logging.warning(\"Logging warning message\")\n",
        "logging.error(\"Logging error message\")\n",
        "logging.critical(\"Logging critical message\")\n",
        "\n",
        "#Output\n",
        "# 2025-05-24 19:37:23,816 - INFO - Logging info message\n",
        "# 2025-05-24 19:37:23,816 - WARNING - Logging warning message\n",
        "# 2025-05-24 19:37:23,817 - ERROR - Logging error message\n",
        "# 2025-05-24 19:37:23,817 - CRITICAL - Logging critical message\n"
      ],
      "metadata": {
        "id": "-6lz0apZFngy"
      },
      "execution_count": 163,
      "outputs": []
    },
    {
      "cell_type": "code",
      "source": [
        "#8. Write a program to handle a file opening error using exception handling\n",
        "try:\n",
        "    # Attempt to open a non-existent file\n",
        "    with open(\"non_existent_file.txt\", \"r\") as file:\n",
        "        content = file.read()\n",
        "        print(content)\n",
        "except FileNotFoundError:\n",
        "    print(\"Error: The specified file does not exist.\")\n",
        "except PermissionError:\n",
        "    print(\"Error: You don't have permission to access this file.\")\n",
        "except Exception as e:\n",
        "    print(f\"An unexpected error occurred: {e}\")"
      ],
      "metadata": {
        "colab": {
          "base_uri": "https://localhost:8080/"
        },
        "id": "KXR3Uoz6NJKc",
        "outputId": "a6eaca62-be12-47c0-c995-576d8efdd3ec"
      },
      "execution_count": null,
      "outputs": [
        {
          "output_type": "stream",
          "name": "stdout",
          "text": [
            "Error: The specified file does not exist.\n"
          ]
        }
      ]
    },
    {
      "cell_type": "code",
      "source": [
        "#9. How can you read a file line by line and store its content in a list in Python\n",
        "content=[]\n",
        "with open('test.txt', 'r') as f:    #file created above, is opened in read mode\n",
        "    for l in f.readlines():\n",
        "      content.append(l)   #content of file is read and printed.\n",
        "\n",
        "print(content)    #Contents printed from list.\n"
      ],
      "metadata": {
        "id": "t_BYw21wNxQp",
        "colab": {
          "base_uri": "https://localhost:8080/"
        },
        "outputId": "664d98eb-fbc9-4607-a253-1d2873e95d2c"
      },
      "execution_count": 21,
      "outputs": [
        {
          "output_type": "stream",
          "name": "stdout",
          "text": [
            "['This content is being written into a file.\\n', 'This file will be used for read operation as well.\\n', ' The content being stored is separated by new line character.\\n', 'New content being added to the file in append mode.New content being added to the file in append mode.\\n', 'New content being added to the file in append mode again..New content being added to the file in append mode.\\n', 'New content being added to the file in append mode again..New content being added to the file in append mode.\\n', 'New content being added to the file in append mode again..New content being added to the file in append mode.\\n', 'New content being added to the file in append mode again..New content being added to the file in append mode.\\n', 'New content being added to the file in append mode again..\\n', 'New content being added to the file in append mode.\\n', 'New content being added to the file in append mode again..\\n', 'New content being added to the file in append mode.\\n', 'New content being added to the file in append mode again..\\n']\n"
          ]
        }
      ]
    },
    {
      "cell_type": "code",
      "source": [
        "#10. How can you append data to an existing file in Python?\n",
        "with open('test.txt','a') as fa:\n",
        "  fa.write(\"New content being added to the file in append mode.\\n\")\n",
        "  fa.write(\"New content being added to the file in append mode again..\\n\")\n",
        "\n",
        "with open('test.txt','r') as fr:   #Contents from file test.txt copied into test1.txt.\n",
        "  for l in fr.readlines():\n",
        "    print(l)"
      ],
      "metadata": {
        "id": "SUX7yGLIPSr8",
        "colab": {
          "base_uri": "https://localhost:8080/"
        },
        "outputId": "21d9a911-a313-4fdb-8bdf-2643848cbfbb"
      },
      "execution_count": 159,
      "outputs": [
        {
          "output_type": "stream",
          "name": "stdout",
          "text": [
            "This content is being written into a file.\n",
            "\n",
            "This file will be used for read operation as well.\n",
            "\n",
            " The content being stored is separated by new line character.\n",
            "\n",
            "New content being added to the file in append mode.New content being added to the file in append mode.\n",
            "\n",
            "New content being added to the file in append mode again..New content being added to the file in append mode.\n",
            "\n",
            "New content being added to the file in append mode again..New content being added to the file in append mode.\n",
            "\n",
            "New content being added to the file in append mode again..New content being added to the file in append mode.\n",
            "\n",
            "New content being added to the file in append mode again..New content being added to the file in append mode.\n",
            "\n",
            "New content being added to the file in append mode again..\n",
            "\n",
            "New content being added to the file in append mode.\n",
            "\n",
            "New content being added to the file in append mode again..\n",
            "\n",
            "New content being added to the file in append mode.\n",
            "\n",
            "New content being added to the file in append mode again..\n",
            "\n",
            "New content being added to the file in append mode.\n",
            "\n",
            "New content being added to the file in append mode again..\n",
            "\n"
          ]
        }
      ]
    },
    {
      "cell_type": "code",
      "source": [
        "#11. Write a Python program that uses a try-except block to handle an error when attempting to access a dictionary key that doesn't exist\n",
        "dic = {'name':'Shyam','course':'Data Science with Gen AI'}\n",
        "try:\n",
        "  print(dic['age'])\n",
        "except KeyError:\n",
        "  print(\"Key doesn't exist in dictionary\")\n"
      ],
      "metadata": {
        "colab": {
          "base_uri": "https://localhost:8080/"
        },
        "id": "qFe2oPj7QXpf",
        "outputId": "5cffa0cc-fac0-4ed3-d4d9-94769940d853"
      },
      "execution_count": 160,
      "outputs": [
        {
          "output_type": "stream",
          "name": "stdout",
          "text": [
            "Key doesn't exist in dictionary\n"
          ]
        }
      ]
    },
    {
      "cell_type": "code",
      "source": [
        "#12. Write a program that demonstrates using multiple except blocks to handle different types of exceptions\n",
        "lst = [1,2,3,'a',5,0]\n",
        "def performMathOp(i):\n",
        "  try:\n",
        "    #May throw Typeerror\n",
        "    #May throw ZeroDivisionError\n",
        "    return(f\"Square of {i} is {i**2} and division of 10/{i} is {10/i}\")\n",
        "  except ZeroDivisionError:\n",
        "    return(f\"Division by Zero Error. while performing 10/{i}\")\n",
        "  except TypeError:\n",
        "    return(f\"Unsupported type to perform an math operation. with {i}\")\n",
        "  except Exception as e:\n",
        "    return(e)\n",
        "\n",
        "for i in lst:\n",
        "  print(performMathOp(i))\n"
      ],
      "metadata": {
        "colab": {
          "base_uri": "https://localhost:8080/"
        },
        "id": "tUZzx3JvRFk6",
        "outputId": "fa671cea-361d-44a5-f83d-9ecdd7e6f1fa"
      },
      "execution_count": 32,
      "outputs": [
        {
          "output_type": "stream",
          "name": "stdout",
          "text": [
            "Square of 1 is 1 and division of 10/1 is 10.0\n",
            "Square of 2 is 4 and division of 10/2 is 5.0\n",
            "Square of 3 is 9 and division of 10/3 is 3.3333333333333335\n",
            "Unsupported type to perform an math operation. with a\n",
            "Square of 5 is 25 and division of 10/5 is 2.0\n",
            "Division by Zero Error. while performing 10/0\n"
          ]
        }
      ]
    },
    {
      "cell_type": "code",
      "source": [
        "# 13. How would you check if a file exists before attempting to read it in Python\n",
        "import os   #alternatively can use from pathlib import Path as well to check existence.\n",
        "filelist = ['test.txt','test1.txt','test2.txt']\n",
        "for f in filelist:\n",
        "  if os.path.exists(f):   #Check for the file's existence\n",
        "    print(f\"File {f}, exists\")\n",
        "  else:\n",
        "    print(f\"File {f}, does not exists\")"
      ],
      "metadata": {
        "colab": {
          "base_uri": "https://localhost:8080/"
        },
        "id": "iKufvScmUMAc",
        "outputId": "5dd147fd-2d67-4160-ddd1-04803d52fed2"
      },
      "execution_count": 42,
      "outputs": [
        {
          "output_type": "stream",
          "name": "stdout",
          "text": [
            "File test.txt, exists\n",
            "File test1.txt, exists\n",
            "File test2.txt, does not exists\n"
          ]
        }
      ]
    },
    {
      "cell_type": "code",
      "source": [
        "# 14. Write a program that uses the logging module to log both informational and error messages\n",
        "import logging\n",
        "\n",
        "logging.basicConfig(filename='math.log', force=True, level=logging.INFO, format=\"%(asctime)s - %(levelname)s - %(message)s\")\n",
        "\n",
        "logging.info(\"Performing a basic division operation.\")  #Logging info message\n",
        "\n",
        "try:\n",
        "  print(10/0)\n",
        "except ZeroDivisionError:\n",
        "  logging.error(\"Division by zero not possible\")  #logging Error message.\n",
        "\n",
        "with open('math.log','r') as f:\n",
        "  print(f.read())\n"
      ],
      "metadata": {
        "colab": {
          "base_uri": "https://localhost:8080/"
        },
        "id": "HfnmvimgUjFF",
        "outputId": "5a1a585a-bac0-4c01-d3b6-b97b46f177ce"
      },
      "execution_count": 45,
      "outputs": [
        {
          "output_type": "stream",
          "name": "stdout",
          "text": [
            "2025-05-24 17:40:49,105 - INFO - Performing a basic division operation.\n",
            "2025-05-24 17:40:49,105 - ERROR - Division by zero not possible\n",
            "2025-05-24 17:41:17,726 - INFO - Performing a basic division operation.\n",
            "2025-05-24 17:41:17,726 - ERROR - Division by zero not possible\n",
            "\n"
          ]
        }
      ]
    },
    {
      "cell_type": "code",
      "source": [
        "# 15. Write a Python program that prints the content of a file and handles the case when the file is empty\n",
        "filelist = ['empty.txt','test.txt']\n",
        "try:\n",
        "  for file in filelist:\n",
        "    f = open(file,'r')\n",
        "    lines = f.readlines()\n",
        "    if lines:\n",
        "      print(f\"Content of the File: '{file}' below: \\n\")\n",
        "      for c in lines:\n",
        "        print(c)\n",
        "    else:\n",
        "      print(f\"Error: File '{file}' is empty.\")\n",
        "except FileNotFoundError:\n",
        "  print(\"Error: The file does not exist!\")\n",
        "except Exception as e:\n",
        "  print(f\"An unexpected error occurred: {e}\")\n",
        "\n"
      ],
      "metadata": {
        "colab": {
          "base_uri": "https://localhost:8080/"
        },
        "id": "VwsY4FEaUk7D",
        "outputId": "dbb41b6c-7f02-4572-d394-fc3ce2485819"
      },
      "execution_count": 68,
      "outputs": [
        {
          "output_type": "stream",
          "name": "stdout",
          "text": [
            "Error: File 'empty.txt' is empty.\n",
            "Content of the File: 'test.txt' below: \n",
            "\n",
            "This content is being written into a file.\n",
            "\n",
            "This file will be used for read operation as well.\n",
            "\n",
            " The content being stored is separated by new line character.\n",
            "\n",
            "New content being added to the file in append mode.New content being added to the file in append mode.\n",
            "\n",
            "New content being added to the file in append mode again..New content being added to the file in append mode.\n",
            "\n",
            "New content being added to the file in append mode again..New content being added to the file in append mode.\n",
            "\n",
            "New content being added to the file in append mode again..New content being added to the file in append mode.\n",
            "\n",
            "New content being added to the file in append mode again..New content being added to the file in append mode.\n",
            "\n",
            "New content being added to the file in append mode again..\n",
            "\n",
            "New content being added to the file in append mode.\n",
            "\n",
            "New content being added to the file in append mode again..\n",
            "\n",
            "New content being added to the file in append mode.\n",
            "\n",
            "New content being added to the file in append mode again..\n",
            "\n"
          ]
        }
      ]
    },
    {
      "cell_type": "code",
      "source": [
        "# 16. Demonstrate how to use memory profiling to check the memory usage of a small program\n",
        "from memory_profiler import profile\n",
        "\n",
        "@profile\n",
        "def allocate_memory():\n",
        "  data = [i for i in range(100)] #creates a large list\n",
        "  return data\n",
        "\n",
        "allocate_memory()\n",
        "\n",
        "#output when run as .py file in vscode.\n",
        "'''\n",
        "C:\\Projects\\PythonFiles> python memory_test.py\n",
        "Filename: C:\\Projects\\PythonFiles\\memory_test.py\n",
        "\n",
        "Line #    Mem usage    Increment  Occurrences   Line Contents\n",
        "=============================================================\n",
        "     3     55.6 MiB     55.6 MiB           1   @profile\n",
        "     4                                         def allocate_memory():\n",
        "     5     59.6 MiB      4.1 MiB      100001       data = [i for i in range(100000)]  # Creates a large list\n",
        "     6     59.6 MiB      0.0 MiB           1       return data\n",
        "'''"
      ],
      "metadata": {
        "colab": {
          "base_uri": "https://localhost:8080/",
          "height": 140
        },
        "id": "sKR1n5r6UlW1",
        "outputId": "c21ed71d-527d-4e06-e740-2ec478828b3c"
      },
      "execution_count": 82,
      "outputs": [
        {
          "output_type": "stream",
          "name": "stdout",
          "text": [
            "ERROR: Could not find file <ipython-input-82-9b5b3de2d3e1>\n",
            "NOTE: %mprun can only be used on functions defined in physical files, and not in the IPython environment.\n"
          ]
        },
        {
          "output_type": "execute_result",
          "data": {
            "text/plain": [
              "'\\nPS C:\\\\Projects\\\\PythonFiles> python memory_test.py\\nFilename: C:\\\\Projects\\\\PythonFiles\\\\memory_test.py\\n\\nLine #    Mem usage    Increment  Occurrences   Line Contents\\n=============================================================\\n     3     55.6 MiB     55.6 MiB           1   @profile\\n     4                                         def allocate_memory():\\n     5     59.6 MiB      4.1 MiB      100001       data = [i for i in range(100000)]  # Creates a large list\\n     6     59.6 MiB      0.0 MiB           1       return data\\n'"
            ],
            "application/vnd.google.colaboratory.intrinsic+json": {
              "type": "string"
            }
          },
          "metadata": {},
          "execution_count": 82
        }
      ]
    },
    {
      "cell_type": "code",
      "source": [
        "# 17. Write a Python program to create and write a list of numbers to a file, one number per line\n",
        "# Define a list of numbers\n",
        "numbers = [1, 2, 3, 4, 5, 6, 7, 8, 9, 10]\n",
        "\n",
        "# Open the file in write mode\n",
        "with open(\"numbers.txt\", \"w\") as file:\n",
        "    for number in numbers:\n",
        "        file.write(f\"{number}\\n\")  # Write each number on a new line\n",
        "\n",
        "print(\"Numbers have been written to numbers.txt successfully!\")"
      ],
      "metadata": {
        "colab": {
          "base_uri": "https://localhost:8080/"
        },
        "id": "r0On6LUBUlmz",
        "outputId": "7ed0d607-2c7a-46dc-ac28-311791439eb3"
      },
      "execution_count": 83,
      "outputs": [
        {
          "output_type": "stream",
          "name": "stdout",
          "text": [
            "Numbers have been written to numbers.txt successfully!\n"
          ]
        }
      ]
    },
    {
      "cell_type": "code",
      "source": [
        "from logging import handlers\n",
        "# 18. How would you implement a basic logging setup that logs to a file with rotation after 1MB\n",
        "import logging\n",
        "from logging.handlers import RotatingFileHandler\n",
        "log_file = 'rotate.log'\n",
        "handler = RotatingFileHandler(log_file,maxBytes=1_048_576, backupCount=3)\n",
        "formatter = logging.Formatter(\"%(asctime)s - %(levelname)s - %(message)s\")\n",
        "handler.setFormatter(formatter)\n",
        "logger = logging.getLogger(\"MyLogger\")\n",
        "logger.setLevel(logging.DEBUG)\n",
        "logger.addHandler(handler)\n",
        "\n",
        "# Example log entries\n",
        "for i in range(10000):    #3 files get created with name rotate.log.1, .2 and .3 apart from main rotate.log file.\n",
        "  logger.info(\"This is an informational message.\")\n",
        "  logger.error(\"Thisis an error message.\")\n",
        "\n",
        "print(f\"Logging to {log_file} with rotation enabled!\")\n",
        "\n",
        "#Code to check the size of each log file. in KB\n",
        "\n",
        "# import os\n",
        "# print(os.path.getsize('rotate.log')/1024,'kb')\n",
        "# print(os.path.getsize('rotate.log.1')/1024,'kb')\n",
        "# print(os.path.getsize('rotate.log.2')/1024,'kb')\n",
        "# print(os.path.getsize('rotate.log.3')/1024,'kb')\n"
      ],
      "metadata": {
        "colab": {
          "base_uri": "https://localhost:8080/",
          "height": 70
        },
        "id": "IVUVBkwhUl0k",
        "outputId": "6fd005e3-ced2-4360-8216-3505fd7205d0"
      },
      "execution_count": 114,
      "outputs": [
        {
          "output_type": "stream",
          "name": "stdout",
          "text": [
            "Logging to rotate.log with rotation enabled!\n"
          ]
        },
        {
          "output_type": "execute_result",
          "data": {
            "text/plain": [
              "\"\\nimport os\\nprint(os.path.getsize('rotate.log')/1024,'kb')\\nprint(os.path.getsize('rotate.log.1')/1024,'kb')\\nprint(os.path.getsize('rotate.log.2')/1024,'kb')\\nprint(os.path.getsize('rotate.log.3')/1024,'kb')\""
            ],
            "application/vnd.google.colaboratory.intrinsic+json": {
              "type": "string"
            }
          },
          "metadata": {},
          "execution_count": 114
        }
      ]
    },
    {
      "cell_type": "code",
      "source": [
        "# 19. Write a program that handles both IndexError and KeyError using a try-except block\n",
        "dic = {'name':'Shyam','marks':[],'course':'DS with Gen AI'}\n",
        "\n",
        "def getDetails(d):\n",
        "  try:\n",
        "    # print(type(dic[d])== list)\n",
        "    if(type(dic[d]) == list):\n",
        "      print(dic[d][0], ' is your marks')\n",
        "    else:\n",
        "      print(dic[d])\n",
        "  except KeyError:\n",
        "    print('Invalid key in dictionary')\n",
        "  except IndexError:\n",
        "    print('invalid index in list')\n",
        "\n",
        "for i in dic:\n",
        "  getDetails(i)\n",
        "getDetails('age')\n",
        "\n"
      ],
      "metadata": {
        "colab": {
          "base_uri": "https://localhost:8080/"
        },
        "id": "zVlkBbkqUmAx",
        "outputId": "dce41479-d8bc-48d8-dbc6-08d8041bd0a9"
      },
      "execution_count": 127,
      "outputs": [
        {
          "output_type": "stream",
          "name": "stdout",
          "text": [
            "Shyam\n",
            "invalid index in list\n",
            "DS with Gen AI\n",
            "Invalid key in dictionary\n"
          ]
        }
      ]
    },
    {
      "cell_type": "code",
      "source": [
        "# 20. How would you open a file and read its contents using a context manager in Python\n",
        "with open(\"test.txt\", \"r\") as file:\n",
        "    content = file.read()  # Reads entire file\n",
        "    print(\"File Contents:\\n\", content)"
      ],
      "metadata": {
        "colab": {
          "base_uri": "https://localhost:8080/"
        },
        "id": "sHJUygQYUmM2",
        "outputId": "0c4c29a1-c378-4c7f-dad7-27fe385ffc0a"
      },
      "execution_count": 128,
      "outputs": [
        {
          "output_type": "stream",
          "name": "stdout",
          "text": [
            "File Contents:\n",
            " This content is being written into a file.\n",
            "This file will be used for read operation as well.\n",
            " The content being stored is separated by new line character.\n",
            "New content being added to the file in append mode.New content being added to the file in append mode.\n",
            "New content being added to the file in append mode again..New content being added to the file in append mode.\n",
            "New content being added to the file in append mode again..New content being added to the file in append mode.\n",
            "New content being added to the file in append mode again..New content being added to the file in append mode.\n",
            "New content being added to the file in append mode again..New content being added to the file in append mode.\n",
            "New content being added to the file in append mode again..\n",
            "New content being added to the file in append mode.\n",
            "New content being added to the file in append mode again..\n",
            "New content being added to the file in append mode.\n",
            "New content being added to the file in append mode again..\n",
            "\n"
          ]
        }
      ]
    },
    {
      "cell_type": "code",
      "source": [
        "# 21. Write a Python program that reads a file and prints the number of occurrences of a specific word\n",
        "def findwordcount(word):\n",
        "  with open(\"test.txt\", \"r\") as file:\n",
        "      content = file.read()  # Reads entire file\n",
        "      print('there are',content.count(word),'occurrences of the word,',word )\n",
        "\n",
        "findwordcount('append')   #output: there are 15 occurrences of the word, append"
      ],
      "metadata": {
        "colab": {
          "base_uri": "https://localhost:8080/"
        },
        "id": "l1XcrrP5UmY0",
        "outputId": "38392e2e-82d0-4a6d-8bf1-52a867a81ec7"
      },
      "execution_count": 136,
      "outputs": [
        {
          "output_type": "stream",
          "name": "stdout",
          "text": [
            "there are 15 occurrences of the word, append\n"
          ]
        }
      ]
    },
    {
      "cell_type": "code",
      "source": [
        "# 22. How can you check if a file is empty before attempting to read its contents\n",
        "import os\n",
        "\n",
        "files = [\"empty.txt\",\"test.txt\"]\n",
        "for file_path in files:\n",
        "  if os.stat(file_path).st_size == 0:\n",
        "      print(f\"Error: The {file_path} file is empty!\")\n",
        "  else:\n",
        "      with open(file_path, \"r\") as file:\n",
        "          print(f\"File Contents of {file_path}:\\n\", file.read())\n"
      ],
      "metadata": {
        "colab": {
          "base_uri": "https://localhost:8080/"
        },
        "id": "-jImEnspUmli",
        "outputId": "cccde573-ac62-443c-f018-c01ca555ff9d"
      },
      "execution_count": 140,
      "outputs": [
        {
          "output_type": "stream",
          "name": "stdout",
          "text": [
            "Error: The empty.txt file is empty!\n",
            "File Contents of test.txt:\n",
            " This content is being written into a file.\n",
            "This file will be used for read operation as well.\n",
            " The content being stored is separated by new line character.\n",
            "New content being added to the file in append mode.New content being added to the file in append mode.\n",
            "New content being added to the file in append mode again..New content being added to the file in append mode.\n",
            "New content being added to the file in append mode again..New content being added to the file in append mode.\n",
            "New content being added to the file in append mode again..New content being added to the file in append mode.\n",
            "New content being added to the file in append mode again..New content being added to the file in append mode.\n",
            "New content being added to the file in append mode again..\n",
            "New content being added to the file in append mode.\n",
            "New content being added to the file in append mode again..\n",
            "New content being added to the file in append mode.\n",
            "New content being added to the file in append mode again..\n",
            "\n"
          ]
        }
      ]
    },
    {
      "cell_type": "code",
      "source": [
        "from io import UnsupportedOperation\n",
        "# 23. Write a Python program that writes to a log file when an error occurs during file handling.\n",
        "import logging\n",
        "\n",
        "logging.basicConfig(filename='file.log', force=True, level=logging.ERROR, format=\"%(asctime)s - %(levelname)s - %(message)s\")\n",
        "try:\n",
        "  with open('empty.txt','r') as fil:    #can be tried with a non-existing file to get FileNotFoundError\n",
        "    print(fil.read())\n",
        "    fil.write('A new Line being added')\n",
        "except FileNotFoundError as fe:\n",
        "    logging.error(f\"Error: The file does not exist.{fe}\")\n",
        "    print(\"File not found, error logged.\")\n",
        "except UnsupportedOperation as ue:    #invalid operation of write when file is opened in readonly mode.\n",
        "  logging.error(f\"file {fil.name} cannot be written when opened in read-only mode: {ue}\")\n",
        "  print('Exception logged in the file.')\n",
        "\n",
        "  #output from file file.log:\n",
        "  # 2025-05-24 19:21:32,784 - ERROR - file cannot be written when opened in read-only mode: not writable\n",
        "\n"
      ],
      "metadata": {
        "colab": {
          "base_uri": "https://localhost:8080/"
        },
        "id": "7Kh2BcoKUmxl",
        "outputId": "c2f18a80-bd60-4688-d805-b8b4093b0d29"
      },
      "execution_count": 158,
      "outputs": [
        {
          "output_type": "stream",
          "name": "stdout",
          "text": [
            "\n",
            "Exception logged in the file.\n"
          ]
        }
      ]
    }
  ]
}